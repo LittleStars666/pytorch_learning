{
 "cells": [
  {
   "cell_type": "code",
   "execution_count": 1,
   "metadata": {
    "ExecuteTime": {
     "end_time": "2019-01-05T12:56:09.956539Z",
     "start_time": "2019-01-05T12:56:09.599454Z"
    }
   },
   "outputs": [],
   "source": [
    "import torch \n",
    "import torch.nn as nn\n",
    "import torchvision\n",
    "import torchvision.transforms as transforms"
   ]
  },
  {
   "cell_type": "markdown",
   "metadata": {},
   "source": [
    "<p style=\"text-align:center;font-size:20px;color:green;font-weight:bold;font-family:'微软雅黑';\"> rnn特别擅长处理序列类型的数据，因为他是一个循环的结构</p>\n",
    "<img src=\"https://ptorch.com/uploads/9d761e90e601fe6cf4bd8dd605d28935.png\">\n",
    "<p style=\"text-intend:2em;font-size:16px;color:blue;font-family:'微软雅黑';\"> &nbsp;&nbsp;&nbsp;&nbsp;&nbsp;&nbsp;&nbsp;一个序列的数据依次进入网络A，网络A循环的往后传递。\n",
    "这就是RNN的基本结构类型。而最早的RNN模型，序列依次进入网络中，之前进入序列的数据会保存信息而对后面的数据产生影响，所以RNN有着记忆的特性，而同时越前面的数据进入序列的时间越早，所以对后面的数据的影响也就越弱，简而言之就是一个数据会更大程度受到其临近数据的影响。</p>"
   ]
  },
  {
   "cell_type": "markdown",
   "metadata": {
    "ExecuteTime": {
     "end_time": "2019-01-05T13:13:51.309762Z",
     "start_time": "2019-01-05T13:13:51.306221Z"
    }
   },
   "source": [
    "<p style=\"text-align:center;font-size:20px;color:green;font-weight:bold;font-family:'微软雅黑';\"> LSTM(我们很有可能需要更长时间之前的信息，而这个能力传统的RNN特别弱)</p>\n",
    "<img src=\"https://ptorch.com/uploads/c50692f81171b513054012fdc46266cd.png\">\n",
    "<p style=\"text-intend:2em;font-size:16px;color:blue;font-family:'微软雅黑';\">&nbsp;&nbsp;&nbsp;&nbsp;&nbsp;&nbsp;&nbsp;这就是LSTM的模型结构，也是一个向后传递的链式模型，而现在广泛使用的RNN其实就是LSTM，序列中每个数据传入LSTM可以得到两个输出，而这两个输出和序列中下一个数据一起又作为传入LSTM的输入，然后不断地循环向后，直到序列结束。</p>\n",
    "\n",
    "<a href=\"https://my.oschina.net/earnp/blog/1113893\">==》参考资料</a>"
   ]
  },
  {
   "cell_type": "code",
   "execution_count": 2,
   "metadata": {
    "ExecuteTime": {
     "end_time": "2019-01-05T12:56:39.020489Z",
     "start_time": "2019-01-05T12:56:39.016391Z"
    }
   },
   "outputs": [],
   "source": [
    "device = torch.device('cuda:0') #使用序号为0的GPU"
   ]
  },
  {
   "cell_type": "markdown",
   "metadata": {},
   "source": [
    "##  <span style=\"font-size:16px;color:blue;font-family:'微软雅黑';\">首先需要定义好LSTM网络，需要nn.LSTM()，首先介绍一下这个函数里面的参数:</span>\n",
    "\n",
    "- ### `input_size` 表示的是输入的数据维数 \n",
    "\n",
    "- ### `hidden_size` 表示的是输出维数\n",
    "\n",
    "- ### `num_layers` 表示堆叠几层的LSTM，默认是1\n",
    "\n",
    "- ### `bias` True 或者 False，决定是否使用bias\n",
    "\n",
    "- ### `batch_first` True 或者 False，因为nn.lstm()接受的数据输入是(序列长度，batch，输入维数)，这和我们cnn输入的方式不太一致，所以使用batch_first，我们可以将输入变成(batch，序列长度，输入维数)\n",
    "\n",
    "- ### `dropout` 表示除了最后一层之外都引入一个dropout\n",
    "\n",
    "- ### `bidirectional` 表示双向LSTM，也就是序列从左往右算一次，从右往左又算一次，这样就可以两倍的输出"
   ]
  },
  {
   "cell_type": "code",
   "execution_count": 3,
   "metadata": {
    "ExecuteTime": {
     "end_time": "2019-01-05T12:59:38.554104Z",
     "start_time": "2019-01-05T12:59:38.545614Z"
    }
   },
   "outputs": [],
   "source": [
    "sequence_length = 28\n",
    "input_size = 28 #表示的是输入的数据维数\n",
    "hidden_size = 128 #表示的是输出维数\n",
    "num_layers = 2 #表示堆叠几层的LSTM，默认是1\n",
    "num_classes = 10\n",
    "batch_size = 100\n",
    "num_epochs = 2\n",
    "learning_rate = 0.01"
   ]
  },
  {
   "cell_type": "code",
   "execution_count": 4,
   "metadata": {
    "ExecuteTime": {
     "end_time": "2019-01-05T12:59:53.379032Z",
     "start_time": "2019-01-05T12:59:53.338891Z"
    }
   },
   "outputs": [],
   "source": [
    "train_dataset = torchvision.datasets.MNIST(root='./data/',\n",
    "                                           train=True, \n",
    "                                           transform=transforms.ToTensor(),\n",
    "                                           download=True)\n",
    "\n",
    "test_dataset = torchvision.datasets.MNIST(root='./data/',\n",
    "                                          train=False, \n",
    "                                          transform=transforms.ToTensor())"
   ]
  },
  {
   "cell_type": "code",
   "execution_count": 5,
   "metadata": {
    "ExecuteTime": {
     "end_time": "2019-01-05T13:00:00.817214Z",
     "start_time": "2019-01-05T13:00:00.811864Z"
    }
   },
   "outputs": [],
   "source": [
    "train_loader = torch.utils.data.DataLoader(dataset=train_dataset,\n",
    "                                           batch_size=batch_size, \n",
    "                                           shuffle=True)\n",
    "\n",
    "test_loader = torch.utils.data.DataLoader(dataset=test_dataset,\n",
    "                                          batch_size=batch_size, \n",
    "                                          shuffle=False)"
   ]
  },
  {
   "cell_type": "code",
   "execution_count": 9,
   "metadata": {
    "ExecuteTime": {
     "end_time": "2019-01-06T07:38:28.225948Z",
     "start_time": "2019-01-06T07:38:28.188180Z"
    }
   },
   "outputs": [],
   "source": [
    "class RNN_Model(nn.Module):\n",
    "    def __init__(self,input_size,hidden_size,num_layers,num_classes):\n",
    "        super(RNN_Model,self).__init__()\n",
    "        self.hidden_size = hidden_size\n",
    "        self.num_layers = num_layers\n",
    "        self.lstm = nn.LSTM(input_size,hidden_size,num_layers,batch_first=True)\n",
    "        self.fc = nn.Linear(hidden_size,num_classes)\n",
    "    def forward(self,x):\n",
    "        h0 = torch.zeros(self.num_layers,x.size(0),self.hidden_size).to(device)\n",
    "        c0 = torch.zeros(self.num_layers,x.size(0),self.hidden_size).to(device)\n",
    "        \n",
    "        out, _ = self.lstm(x, (h0, c0))  # out: tensor of shape (batch_size, seq_length, hidden_size)\n",
    "        \n",
    "        # Decode the hidden state of the last time step\n",
    "        out = self.fc(out[:, -1, :])#out = out[:, -1, :]通过这种方式，out中的三个维度分别表示batch_size，序列长度和数据维度，所以中间的序列长度取-1，表示取序列中的最后一个数据，这个数据维度为128，再通过分类器，输出10个结果表示每种结果的概率。\n",
    "        return out\n",
    "        "
   ]
  },
  {
   "cell_type": "code",
   "execution_count": 10,
   "metadata": {
    "ExecuteTime": {
     "end_time": "2019-01-06T07:38:31.589728Z",
     "start_time": "2019-01-06T07:38:29.061394Z"
    }
   },
   "outputs": [],
   "source": [
    "model = RNN_Model(input_size,hidden_size,num_layers,num_classes).to(device)"
   ]
  },
  {
   "cell_type": "code",
   "execution_count": 11,
   "metadata": {
    "ExecuteTime": {
     "end_time": "2019-01-06T07:38:42.392111Z",
     "start_time": "2019-01-06T07:38:42.387688Z"
    }
   },
   "outputs": [
    {
     "name": "stdout",
     "output_type": "stream",
     "text": [
      "RNN_Model(\n",
      "  (lstm): LSTM(28, 128, num_layers=2, batch_first=True)\n",
      "  (fc): Linear(in_features=128, out_features=10, bias=True)\n",
      ")\n"
     ]
    }
   ],
   "source": [
    "print(model)"
   ]
  },
  {
   "cell_type": "code",
   "execution_count": 12,
   "metadata": {
    "ExecuteTime": {
     "end_time": "2019-01-06T07:39:08.065670Z",
     "start_time": "2019-01-06T07:39:08.060665Z"
    }
   },
   "outputs": [],
   "source": [
    "criterion = nn.CrossEntropyLoss()\n",
    "optimizer = torch.optim.Adam(model.parameters(), lr=learning_rate)"
   ]
  },
  {
   "cell_type": "code",
   "execution_count": 13,
   "metadata": {
    "ExecuteTime": {
     "end_time": "2019-01-06T07:39:31.820879Z",
     "start_time": "2019-01-06T07:39:16.992181Z"
    }
   },
   "outputs": [
    {
     "name": "stdout",
     "output_type": "stream",
     "text": [
      "Epoch [1/2], Step [100/600], Loss: 0.5269\n",
      "Epoch [1/2], Step [200/600], Loss: 0.1830\n",
      "Epoch [1/2], Step [300/600], Loss: 0.1193\n",
      "Epoch [1/2], Step [400/600], Loss: 0.1721\n",
      "Epoch [1/2], Step [500/600], Loss: 0.2878\n",
      "Epoch [1/2], Step [600/600], Loss: 0.1324\n",
      "Epoch [2/2], Step [100/600], Loss: 0.2253\n",
      "Epoch [2/2], Step [200/600], Loss: 0.1271\n",
      "Epoch [2/2], Step [300/600], Loss: 0.1875\n",
      "Epoch [2/2], Step [400/600], Loss: 0.0440\n",
      "Epoch [2/2], Step [500/600], Loss: 0.0246\n",
      "Epoch [2/2], Step [600/600], Loss: 0.0586\n"
     ]
    }
   ],
   "source": [
    "total_step = len(train_loader)\n",
    "for epoch in range(num_epochs):\n",
    "    for i, (images, labels) in enumerate(train_loader):\n",
    "        images = images.reshape(-1, sequence_length, input_size).to(device)\n",
    "        labels = labels.to(device)\n",
    "        \n",
    "        # Forward pass\n",
    "        outputs = model(images)\n",
    "        loss = criterion(outputs, labels)\n",
    "        \n",
    "        # Backward and optimize\n",
    "        optimizer.zero_grad()\n",
    "        loss.backward()\n",
    "        optimizer.step()\n",
    "        \n",
    "        if (i+1) % 100 == 0:\n",
    "            print ('Epoch [{}/{}], Step [{}/{}], Loss: {:.4f}' \n",
    "                   .format(epoch+1, num_epochs, i+1, total_step, loss.item()))"
   ]
  },
  {
   "cell_type": "code",
   "execution_count": 14,
   "metadata": {
    "ExecuteTime": {
     "end_time": "2019-01-06T07:41:45.123657Z",
     "start_time": "2019-01-06T07:41:44.045454Z"
    }
   },
   "outputs": [
    {
     "name": "stdout",
     "output_type": "stream",
     "text": [
      "Test Accuracy of the model on the 10000 test images: 97.14 %\n"
     ]
    }
   ],
   "source": [
    "with torch.no_grad():\n",
    "    correct = 0\n",
    "    total = 0\n",
    "    for images, labels in test_loader:\n",
    "        images = images.reshape(-1, sequence_length, input_size).to(device)\n",
    "        labels = labels.to(device)\n",
    "        outputs = model(images)\n",
    "        _, predicted = torch.max(outputs.data, 1)\n",
    "        total += labels.size(0)\n",
    "        correct += (predicted == labels).sum().item()\n",
    "\n",
    "    print('Test Accuracy of the model on the 10000 test images: {} %'.format(100 * correct / total)) \n",
    "\n",
    "# Save the model checkpoint\n",
    "torch.save(model.state_dict(), 'model.ckpt')"
   ]
  },
  {
   "cell_type": "code",
   "execution_count": null,
   "metadata": {},
   "outputs": [],
   "source": []
  }
 ],
 "metadata": {
  "kernelspec": {
   "display_name": "pytorch",
   "language": "python",
   "name": "pytorch"
  },
  "language_info": {
   "codemirror_mode": {
    "name": "ipython",
    "version": 3
   },
   "file_extension": ".py",
   "mimetype": "text/x-python",
   "name": "python",
   "nbconvert_exporter": "python",
   "pygments_lexer": "ipython3",
   "version": "3.6.3"
  },
  "toc": {
   "base_numbering": 1,
   "nav_menu": {},
   "number_sections": true,
   "sideBar": true,
   "skip_h1_title": false,
   "title_cell": "Table of Contents",
   "title_sidebar": "Contents",
   "toc_cell": false,
   "toc_position": {},
   "toc_section_display": true,
   "toc_window_display": false
  },
  "varInspector": {
   "cols": {
    "lenName": 16,
    "lenType": 16,
    "lenVar": 40
   },
   "kernels_config": {
    "python": {
     "delete_cmd_postfix": "",
     "delete_cmd_prefix": "del ",
     "library": "var_list.py",
     "varRefreshCmd": "print(var_dic_list())"
    },
    "r": {
     "delete_cmd_postfix": ") ",
     "delete_cmd_prefix": "rm(",
     "library": "var_list.r",
     "varRefreshCmd": "cat(var_dic_list()) "
    }
   },
   "types_to_exclude": [
    "module",
    "function",
    "builtin_function_or_method",
    "instance",
    "_Feature"
   ],
   "window_display": false
  }
 },
 "nbformat": 4,
 "nbformat_minor": 2
}
