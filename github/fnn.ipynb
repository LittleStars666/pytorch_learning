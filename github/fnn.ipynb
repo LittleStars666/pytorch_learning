{
 "cells": [
  {
   "cell_type": "code",
   "execution_count": 4,
   "metadata": {
    "ExecuteTime": {
     "end_time": "2019-01-05T03:37:07.089798Z",
     "start_time": "2019-01-05T03:37:07.081227Z"
    }
   },
   "outputs": [],
   "source": [
    "import torch\n",
    "from torch.autograd import Variable\n",
    "import torch.nn as nn\n",
    "import torchvision.datasets as dsets\n",
    "import torchvision.transforms as transforms\n",
    "import torch.nn.functional as F"
   ]
  },
  {
   "cell_type": "markdown",
   "metadata": {},
   "source": [
    "初始化超参数"
   ]
  },
  {
   "cell_type": "code",
   "execution_count": 2,
   "metadata": {
    "ExecuteTime": {
     "end_time": "2019-01-05T03:36:24.880174Z",
     "start_time": "2019-01-05T03:36:24.871299Z"
    }
   },
   "outputs": [],
   "source": [
    "input_size = 784       # The image size = 28 x 28 = 784\n",
    "hidden_size = 500      # The number of nodes at the hidden layer\n",
    "num_classes = 10       # The number of output classes. In this case, from 0 to 9\n",
    "num_epochs = 5         # The number of times entire dataset is trained\n",
    "batch_size = 100       # The size of input data took for one iteration\n",
    "learning_rate = 0.001  # The speed of convergence"
   ]
  },
  {
   "cell_type": "markdown",
   "metadata": {},
   "source": [
    "下载数据集:\n",
    "<img src=\"data:image/png;base64,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\">"
   ]
  },
  {
   "cell_type": "code",
   "execution_count": 5,
   "metadata": {
    "ExecuteTime": {
     "end_time": "2019-01-05T03:48:47.966425Z",
     "start_time": "2019-01-05T03:37:09.439930Z"
    }
   },
   "outputs": [
    {
     "name": "stdout",
     "output_type": "stream",
     "text": [
      "Downloading http://yann.lecun.com/exdb/mnist/train-images-idx3-ubyte.gz\n",
      "Downloading http://yann.lecun.com/exdb/mnist/train-labels-idx1-ubyte.gz\n",
      "Downloading http://yann.lecun.com/exdb/mnist/t10k-images-idx3-ubyte.gz\n",
      "Downloading http://yann.lecun.com/exdb/mnist/t10k-labels-idx1-ubyte.gz\n",
      "Processing...\n",
      "Done!\n"
     ]
    }
   ],
   "source": [
    "train_dataset = dsets.MNIST(root='./data',\n",
    "                           train=True,\n",
    "                           transform=transforms.ToTensor(),\n",
    "                           download=True)\n",
    "\n",
    "test_dataset = dsets.MNIST(root='./data',\n",
    "                           train=False,\n",
    "                           transform=transforms.ToTensor())"
   ]
  },
  {
   "cell_type": "markdown",
   "metadata": {},
   "source": [
    "加载数据集"
   ]
  },
  {
   "cell_type": "code",
   "execution_count": 6,
   "metadata": {
    "ExecuteTime": {
     "end_time": "2019-01-05T03:50:55.325275Z",
     "start_time": "2019-01-05T03:50:55.316674Z"
    }
   },
   "outputs": [],
   "source": [
    "train_loader = torch.utils.data.DataLoader(dataset=train_dataset,\n",
    "                                          batch_size=batch_size,\n",
    "                                          shuffle=True)\n",
    "\n",
    "test_loader = torch.utils.data.DataLoader(dataset=test_dataset,\n",
    "                                          batch_size=batch_size,\n",
    "                                          shuffle=False)"
   ]
  },
  {
   "cell_type": "markdown",
   "metadata": {},
   "source": [
    "构建fnn网络结构：\n",
    "<img src=\"https://ask.qcloudimg.com/http-save/yehe-1565119/9s7n6g6jlw.png?imageView2/2/w/1620\">"
   ]
  },
  {
   "cell_type": "code",
   "execution_count": 7,
   "metadata": {
    "ExecuteTime": {
     "end_time": "2019-01-05T03:51:22.937667Z",
     "start_time": "2019-01-05T03:51:22.911994Z"
    }
   },
   "outputs": [],
   "source": [
    "class Net(nn.Module):\n",
    "    def __init__(self, input_size, hidden_size, num_classes):\n",
    "        super(Net, self).__init__()                    # Inherited from the parent class nn.Module\n",
    "        self.fc1 = nn.Linear(input_size, hidden_size)  # 1st Full-Connected Layer: 784 (input data) -> 500 (hidden node)\n",
    "        self.relu = nn.ReLU()                          # Non-Linear ReLU Layer: max(0,x)\n",
    "        self.fc2 = nn.Linear(hidden_size, num_classes) # 2nd Full-Connected Layer: 500 (hidden node) -> 10 (output class)\n",
    "\n",
    "    def forward(self, x):                              # Forward pass: stacking each layer together\n",
    "        out = self.fc1(x)\n",
    "        out = self.relu(out)\n",
    "        out = self.fc2(out)\n",
    "        return out"
   ]
  },
  {
   "cell_type": "markdown",
   "metadata": {},
   "source": [
    "实例化fnn"
   ]
  },
  {
   "cell_type": "code",
   "execution_count": 9,
   "metadata": {
    "ExecuteTime": {
     "end_time": "2019-01-05T03:52:10.759285Z",
     "start_time": "2019-01-05T03:52:10.745524Z"
    }
   },
   "outputs": [
    {
     "name": "stdout",
     "output_type": "stream",
     "text": [
      "Net(\n",
      "  (fc1): Linear(in_features=784, out_features=500, bias=True)\n",
      "  (relu): ReLU()\n",
      "  (fc2): Linear(in_features=500, out_features=10, bias=True)\n",
      ")\n"
     ]
    }
   ],
   "source": [
    "net = Net(input_size, hidden_size, num_classes)\n",
    "print(net)"
   ]
  },
  {
   "cell_type": "markdown",
   "metadata": {},
   "source": [
    "启用GPU"
   ]
  },
  {
   "cell_type": "code",
   "execution_count": 10,
   "metadata": {
    "ExecuteTime": {
     "end_time": "2019-01-05T03:52:25.227125Z",
     "start_time": "2019-01-05T03:52:18.582508Z"
    }
   },
   "outputs": [
    {
     "data": {
      "text/plain": [
       "Net(\n",
       "  (fc1): Linear(in_features=784, out_features=500, bias=True)\n",
       "  (relu): ReLU()\n",
       "  (fc2): Linear(in_features=500, out_features=10, bias=True)\n",
       ")"
      ]
     },
     "execution_count": 10,
     "metadata": {},
     "output_type": "execute_result"
    }
   ],
   "source": [
    "net.cuda()"
   ]
  },
  {
   "cell_type": "markdown",
   "metadata": {},
   "source": [
    "选择损失函数跟优化器"
   ]
  },
  {
   "cell_type": "code",
   "execution_count": 11,
   "metadata": {
    "ExecuteTime": {
     "end_time": "2019-01-05T03:52:39.532157Z",
     "start_time": "2019-01-05T03:52:39.526343Z"
    }
   },
   "outputs": [],
   "source": [
    "criterion = nn.CrossEntropyLoss()\n",
    "optimizer = torch.optim.Adam(net.parameters(), lr=learning_rate)"
   ]
  },
  {
   "cell_type": "markdown",
   "metadata": {},
   "source": [
    "开始训练"
   ]
  },
  {
   "cell_type": "code",
   "execution_count": 14,
   "metadata": {
    "ExecuteTime": {
     "end_time": "2019-01-05T04:04:01.370070Z",
     "start_time": "2019-01-05T04:03:25.749957Z"
    },
    "scrolled": true
   },
   "outputs": [
    {
     "name": "stderr",
     "output_type": "stream",
     "text": [
      "/mnt/sdb/lh/anaconda3/envs/pytorch/lib/python3.6/site-packages/ipykernel_launcher.py:14: UserWarning: invalid index of a 0-dim tensor. This will be an error in PyTorch 0.5. Use tensor.item() to convert a 0-dim tensor to a Python number\n",
      "  \n"
     ]
    },
    {
     "name": "stdout",
     "output_type": "stream",
     "text": [
      "Epoch [1/5], Step [100/600], Loss: 0.4142\n",
      "Epoch [1/5], Step [200/600], Loss: 0.2854\n",
      "Epoch [1/5], Step [300/600], Loss: 0.2985\n",
      "Epoch [1/5], Step [400/600], Loss: 0.1731\n",
      "Epoch [1/5], Step [500/600], Loss: 0.2550\n",
      "Epoch [1/5], Step [600/600], Loss: 0.1244\n",
      "Epoch [2/5], Step [100/600], Loss: 0.0750\n",
      "Epoch [2/5], Step [200/600], Loss: 0.0419\n",
      "Epoch [2/5], Step [300/600], Loss: 0.0914\n",
      "Epoch [2/5], Step [400/600], Loss: 0.1405\n",
      "Epoch [2/5], Step [500/600], Loss: 0.1201\n",
      "Epoch [2/5], Step [600/600], Loss: 0.0847\n",
      "Epoch [3/5], Step [100/600], Loss: 0.0672\n",
      "Epoch [3/5], Step [200/600], Loss: 0.1195\n",
      "Epoch [3/5], Step [300/600], Loss: 0.0443\n",
      "Epoch [3/5], Step [400/600], Loss: 0.1051\n",
      "Epoch [3/5], Step [500/600], Loss: 0.0750\n",
      "Epoch [3/5], Step [600/600], Loss: 0.0861\n",
      "Epoch [4/5], Step [100/600], Loss: 0.0292\n",
      "Epoch [4/5], Step [200/600], Loss: 0.0614\n",
      "Epoch [4/5], Step [300/600], Loss: 0.0674\n",
      "Epoch [4/5], Step [400/600], Loss: 0.0350\n",
      "Epoch [4/5], Step [500/600], Loss: 0.0372\n",
      "Epoch [4/5], Step [600/600], Loss: 0.1302\n",
      "Epoch [5/5], Step [100/600], Loss: 0.0558\n",
      "Epoch [5/5], Step [200/600], Loss: 0.0354\n",
      "Epoch [5/5], Step [300/600], Loss: 0.0052\n",
      "Epoch [5/5], Step [400/600], Loss: 0.0707\n",
      "Epoch [5/5], Step [500/600], Loss: 0.0421\n",
      "Epoch [5/5], Step [600/600], Loss: 0.0367\n"
     ]
    }
   ],
   "source": [
    "for epoch in range(num_epochs):\n",
    "    for i, (images, labels) in enumerate(train_loader):   # Load a batch of images with its (index, data, class)\n",
    "        images = Variable(images.view(-1, 28*28))         # Convert torch tensor to Variable: change image from a vector of size 784 to a matrix of 28 x 28\n",
    "        labels = Variable(labels)\n",
    "\n",
    "        optimizer.zero_grad()                             # Intialize the hidden weight to all zeros\n",
    "        outputs = net(images.cuda())                             # Forward pass: compute the output class given a image\n",
    "        loss = criterion(outputs, labels.cuda())                 # Compute the loss: difference between the output class and the pre-given label\n",
    "        loss.backward()                                   # Backward pass: compute the weight\n",
    "        optimizer.step()                                  # Optimizer: update the weights of hidden nodes\n",
    "\n",
    "        if (i+1) % 100 == 0:                              # Logging\n",
    "            print('Epoch [%d/%d], Step [%d/%d], Loss: %.4f'\n",
    "                 %(epoch+1, num_epochs, i+1, len(train_dataset)//batch_size, loss.data[0]))"
   ]
  },
  {
   "cell_type": "markdown",
   "metadata": {},
   "source": [
    "测试："
   ]
  },
  {
   "cell_type": "code",
   "execution_count": 17,
   "metadata": {
    "ExecuteTime": {
     "end_time": "2019-01-05T04:05:01.540234Z",
     "start_time": "2019-01-05T04:05:00.442005Z"
    },
    "scrolled": true
   },
   "outputs": [
    {
     "name": "stdout",
     "output_type": "stream",
     "text": [
      "Accuracy of the network on the 10K test images: 97 %\n"
     ]
    }
   ],
   "source": [
    "correct = 0\n",
    "total = 0\n",
    "for images, labels in test_loader:\n",
    "    images = Variable(images.view(-1, 28*28))\n",
    "    outputs = net(images.cuda())\n",
    "    _, predicted = torch.max(outputs.data, 1)  # Choose the best class from the output: The class with the best score\n",
    "    total += labels.size(0)                    # Increment the total count\n",
    "    correct += (predicted == labels.cuda()).sum()     # Increment the correct count\n",
    "\n",
    "print('Accuracy of the network on the 10K test images: %d %%' % (100 * correct / total))"
   ]
  },
  {
   "cell_type": "code",
   "execution_count": null,
   "metadata": {},
   "outputs": [],
   "source": []
  }
 ],
 "metadata": {
  "kernelspec": {
   "display_name": "pytorch",
   "language": "python",
   "name": "pytorch"
  },
  "language_info": {
   "codemirror_mode": {
    "name": "ipython",
    "version": 3
   },
   "file_extension": ".py",
   "mimetype": "text/x-python",
   "name": "python",
   "nbconvert_exporter": "python",
   "pygments_lexer": "ipython3",
   "version": "3.6.2"
  },
  "toc": {
   "base_numbering": 1,
   "nav_menu": {},
   "number_sections": true,
   "sideBar": true,
   "skip_h1_title": false,
   "title_cell": "Table of Contents",
   "title_sidebar": "Contents",
   "toc_cell": false,
   "toc_position": {},
   "toc_section_display": true,
   "toc_window_display": false
  },
  "varInspector": {
   "cols": {
    "lenName": 16,
    "lenType": 16,
    "lenVar": 40
   },
   "kernels_config": {
    "python": {
     "delete_cmd_postfix": "",
     "delete_cmd_prefix": "del ",
     "library": "var_list.py",
     "varRefreshCmd": "print(var_dic_list())"
    },
    "r": {
     "delete_cmd_postfix": ") ",
     "delete_cmd_prefix": "rm(",
     "library": "var_list.r",
     "varRefreshCmd": "cat(var_dic_list()) "
    }
   },
   "types_to_exclude": [
    "module",
    "function",
    "builtin_function_or_method",
    "instance",
    "_Feature"
   ],
   "window_display": false
  }
 },
 "nbformat": 4,
 "nbformat_minor": 2
}
