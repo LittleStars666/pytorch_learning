{
 "cells": [
  {
   "cell_type": "code",
   "execution_count": 19,
   "metadata": {
    "ExecuteTime": {
     "end_time": "2019-01-05T06:39:28.383920Z",
     "start_time": "2019-01-05T06:39:28.377545Z"
    }
   },
   "outputs": [],
   "source": [
    "import torch \n",
    "import torch.nn as nn\n",
    "import torchvision\n",
    "import torchvision.transforms as transforms"
   ]
  },
  {
   "cell_type": "markdown",
   "metadata": {},
   "source": [
    "<div style=\"font-size:16px;\">\n",
    "-- <span style=\"color:red;\">torch.device</span>代表将torch.Tensor分配到的设备的对象。<br>\n",
    "-- <span style=\"color:red;\">torch.device</span></span>包含一个设备类型（'cpu'或'cuda'设备类型）和可选的设备的序号。如果设备序号不存在，则为当前设备; 例如，<span style=\"color:red;\">torch.Tensor</span>用设备构建'cuda'的结果等同于'cuda:X',其中X是<span style=\"color:red;\">torch.cuda.current_device()</span>的结果。<br>\n",
    "-- <span style=\"color:red;\">torch.Tensor</span>的设备可以通过<span style=\"color:red;\">Tensor.device</span>访问属性。<br>\n",
    "-- 构造<span style=\"color:red;\">torch.device</span>可以通过字符串/字符串和设备编号。<br></div>"
   ]
  },
  {
   "cell_type": "code",
   "execution_count": 20,
   "metadata": {
    "ExecuteTime": {
     "end_time": "2019-01-05T06:39:33.972977Z",
     "start_time": "2019-01-05T06:39:33.968810Z"
    }
   },
   "outputs": [],
   "source": [
    "device = torch.device('cuda:0')#使用序号为0的GPU"
   ]
  },
  {
   "cell_type": "markdown",
   "metadata": {},
   "source": [
    "<span style=\"color:blue; font-size:16px; font-weight:bold;\">定义超参数</span>"
   ]
  },
  {
   "cell_type": "code",
   "execution_count": 21,
   "metadata": {
    "ExecuteTime": {
     "end_time": "2019-01-05T06:39:36.606973Z",
     "start_time": "2019-01-05T06:39:36.601119Z"
    }
   },
   "outputs": [],
   "source": [
    "num_epochs = 5\n",
    "num_classes = 10\n",
    "batch_size = 100\n",
    "learning_rate = 0.001"
   ]
  },
  {
   "cell_type": "markdown",
   "metadata": {},
   "source": [
    "<span style=\"color:blue; font-size:16px; font-weight:bold;\">下载数据集</span>"
   ]
  },
  {
   "cell_type": "code",
   "execution_count": 22,
   "metadata": {
    "ExecuteTime": {
     "end_time": "2019-01-05T06:39:37.702298Z",
     "start_time": "2019-01-05T06:39:37.635649Z"
    }
   },
   "outputs": [],
   "source": [
    "train_dataset = torchvision.datasets.MNIST(root='./data',\n",
    "                           train=True,\n",
    "                           transform=transforms.ToTensor(),\n",
    "                           download=True)\n",
    "\n",
    "test_dataset = torchvision.datasets.MNIST(root='./data',\n",
    "                           train=False,\n",
    "                           transform=transforms.ToTensor())"
   ]
  },
  {
   "cell_type": "markdown",
   "metadata": {},
   "source": [
    "<span style=\"color:blue; font-size:16px; font-weight:bold;\">加载数据集</span>"
   ]
  },
  {
   "cell_type": "code",
   "execution_count": 23,
   "metadata": {
    "ExecuteTime": {
     "end_time": "2019-01-05T06:39:38.916855Z",
     "start_time": "2019-01-05T06:39:38.907737Z"
    }
   },
   "outputs": [],
   "source": [
    "train_loader = torch.utils.data.DataLoader(dataset=train_dataset,\n",
    "                                           batch_size=batch_size, \n",
    "                                           shuffle=True)\n",
    "\n",
    "test_loader = torch.utils.data.DataLoader(dataset=test_dataset,\n",
    "                                          batch_size=batch_size, \n",
    "                                          shuffle=False)"
   ]
  },
  {
   "cell_type": "markdown",
   "metadata": {
    "ExecuteTime": {
     "end_time": "2019-01-05T06:08:49.960773Z",
     "start_time": "2019-01-05T06:08:49.955102Z"
    }
   },
   "source": [
    "<span style=\"color:blue; font-size:16px; font-weight:bold;\">构建cnn网络结构</span>"
   ]
  },
  {
   "cell_type": "code",
   "execution_count": 40,
   "metadata": {
    "ExecuteTime": {
     "end_time": "2019-01-05T06:48:53.611043Z",
     "start_time": "2019-01-05T06:48:53.544938Z"
    }
   },
   "outputs": [],
   "source": [
    "class Cnn_Model(nn.Module):\n",
    "    # 定义cnn_model的初始化函数，本函数定义了cnn网络的基本结构\n",
    "    def __init__(self, num_classes=10):\n",
    "        # 继承父类的初始化方法，即先运行nn.Module的初始化函数\n",
    "        super(Cnn_Model, self).__init__()\n",
    "        self.layer1 = nn.Sequential(\n",
    "            nn.Conv2d(1,16,kernel_size=5,stride=1,padding=2),#定义第一个卷积层，输入1通道(灰度图)的图片，输出16张特征图，卷积核5x5，padding：每一条边补充0的层数\n",
    "            nn.BatchNorm2d(16),#标准化\n",
    "            nn.ReLU(),#激活韩式\n",
    "            nn.MaxPool2d(kernel_size=2,stride=2)#最大池化\n",
    "        )\n",
    "        #计算输出： (28-5+2*2)/1+1 = 28 MaxPool：14\n",
    "        self.layer2 = nn.Sequential(\n",
    "            nn.Conv2d(16,32,kernel_size=5,stride=1,padding=2),\n",
    "            nn.BatchNorm2d(32),\n",
    "            nn.ReLU(),\n",
    "            nn.MaxPool2d(kernel_size=2,stride=2)\n",
    "        )\n",
    "        #计算输出： (14-5+2*2)/1+1 = 14  MaxPool：7\n",
    "        # 定义全连接层：线性连接(y = Wx + b)，7*7*32个节点连接到10个节点上   \n",
    "        self.fc = nn.Linear(7*7*32,num_classes)\n",
    "        \n",
    "    def forward(self, x):\n",
    "        out = self.layer1(x)\n",
    "        out = self.layer2(out)\n",
    "        # 形成一维向量形式，总特征数不变，为全连接层做准备\n",
    "        out = out.reshape(out.size(0),-1)\n",
    "        out = self.fc(out)\n",
    "        return out"
   ]
  },
  {
   "cell_type": "markdown",
   "metadata": {},
   "source": [
    "<span style=\"color:blue; font-size:16px; font-weight:bold;\">实例化cnn</span>"
   ]
  },
  {
   "cell_type": "code",
   "execution_count": 42,
   "metadata": {
    "ExecuteTime": {
     "end_time": "2019-01-05T06:49:14.998114Z",
     "start_time": "2019-01-05T06:49:14.987748Z"
    }
   },
   "outputs": [
    {
     "name": "stdout",
     "output_type": "stream",
     "text": [
      "Cnn_Model(\n",
      "  (layer1): Sequential(\n",
      "    (0): Conv2d(1, 16, kernel_size=(5, 5), stride=(1, 1), padding=(2, 2))\n",
      "    (1): BatchNorm2d(16, eps=1e-05, momentum=0.1, affine=True, track_running_stats=True)\n",
      "    (2): ReLU()\n",
      "    (3): MaxPool2d(kernel_size=2, stride=2, padding=0, dilation=1, ceil_mode=False)\n",
      "  )\n",
      "  (layer2): Sequential(\n",
      "    (0): Conv2d(16, 32, kernel_size=(5, 5), stride=(1, 1), padding=(2, 2))\n",
      "    (1): BatchNorm2d(32, eps=1e-05, momentum=0.1, affine=True, track_running_stats=True)\n",
      "    (2): ReLU()\n",
      "    (3): MaxPool2d(kernel_size=2, stride=2, padding=0, dilation=1, ceil_mode=False)\n",
      "  )\n",
      "  (fc): Linear(in_features=1568, out_features=10, bias=True)\n",
      ")\n"
     ]
    }
   ],
   "source": [
    "model = Cnn_Model(num_classes).to(device)\n",
    "print(model)"
   ]
  },
  {
   "cell_type": "markdown",
   "metadata": {},
   "source": [
    "<span style=\"color:blue; font-size:16px; font-weight:bold;\">打印网络结构</span>"
   ]
  },
  {
   "cell_type": "code",
   "execution_count": 64,
   "metadata": {
    "ExecuteTime": {
     "end_time": "2019-01-05T08:55:36.646922Z",
     "start_time": "2019-01-05T08:55:36.514926Z"
    }
   },
   "outputs": [],
   "source": [
    "from graphviz import Digraph\n",
    "\n",
    "def make_dot(var, params=None):\n",
    "    \"\"\" Produces Graphviz representation of PyTorch autograd graph\n",
    "    Blue nodes are the Variables that require grad, orange are Tensors\n",
    "    saved for backward in torch.autograd.Function\n",
    "    Args:\n",
    "        var: output Variable\n",
    "        params: dict of (name, Variable) to add names to node that\n",
    "            require grad (TODO: make optional)\n",
    "    \"\"\"\n",
    "    if params is not None:\n",
    "        assert isinstance(params.values()[0], Variable)\n",
    "        param_map = {id(v): k for k, v in params.items()}\n",
    " \n",
    "    node_attr = dict(style='filled',\n",
    "                     shape='box',\n",
    "                     align='left',\n",
    "                     fontsize='12',\n",
    "                     ranksep='0.1',\n",
    "                     height='0.2')\n",
    "    dot = Digraph(node_attr=node_attr, graph_attr=dict(size=\"12,12\"))\n",
    "    seen = set()\n",
    " \n",
    "    def size_to_str(size):\n",
    "        return '('+(', ').join(['%d' % v for v in size])+')'\n",
    " \n",
    "    def add_nodes(var):\n",
    "        if var not in seen:\n",
    "            if torch.is_tensor(var):\n",
    "                dot.node(str(id(var)), size_to_str(var.size()), fillcolor='orange')\n",
    "            elif hasattr(var, 'variable'):\n",
    "                u = var.variable\n",
    "                name = param_map[id(u)] if params is not None else ''\n",
    "                node_name = '%s\\n %s' % (name, size_to_str(u.size()))\n",
    "                dot.node(str(id(var)), node_name, fillcolor='lightblue')\n",
    "            else:\n",
    "                dot.node(str(id(var)), str(type(var).__name__))\n",
    "            seen.add(var)\n",
    "            if hasattr(var, 'next_functions'):\n",
    "                for u in var.next_functions:\n",
    "                    if u[0] is not None:\n",
    "                        dot.edge(str(id(u[0])), str(id(var)))\n",
    "                        add_nodes(u[0])\n",
    "            if hasattr(var, 'saved_tensors'):\n",
    "                for t in var.saved_tensors:\n",
    "                    dot.edge(str(id(t)), str(id(var)))\n",
    "                    add_nodes(t)\n",
    "    add_nodes(var.grad_fn)\n",
    "    return dot"
   ]
  },
  {
   "cell_type": "code",
   "execution_count": 65,
   "metadata": {
    "ExecuteTime": {
     "end_time": "2019-01-05T08:55:37.571828Z",
     "start_time": "2019-01-05T08:55:37.404609Z"
    }
   },
   "outputs": [
    {
     "name": "stdout",
     "output_type": "stream",
     "text": [
      "该层的结构：[16, 1, 5, 5]\n",
      "该层参数和：400\n",
      "该层的结构：[16]\n",
      "该层参数和：16\n",
      "该层的结构：[16]\n",
      "该层参数和：16\n",
      "该层的结构：[16]\n",
      "该层参数和：16\n",
      "该层的结构：[32, 16, 5, 5]\n",
      "该层参数和：12800\n",
      "该层的结构：[32]\n",
      "该层参数和：32\n",
      "该层的结构：[32]\n",
      "该层参数和：32\n",
      "该层的结构：[32]\n",
      "该层参数和：32\n",
      "该层的结构：[10, 1568]\n",
      "该层参数和：15680\n",
      "该层的结构：[10]\n",
      "该层参数和：10\n",
      "总参数数量和：29034\n"
     ]
    }
   ],
   "source": [
    "from torch.autograd import Variable\n",
    "\n",
    "if __name__ == '__main__':\n",
    "    net = Cnn_Model()\n",
    "    x = Variable(torch.randn(1, 1, 28, 28))\n",
    "    y = net(x)\n",
    "    g = make_dot(y)\n",
    "    g.view()\n",
    " \n",
    "    params = list(net.parameters())\n",
    "    k = 0\n",
    "    for i in params:\n",
    "        l = 1\n",
    "        print(\"该层的结构：\" + str(list(i.size())))\n",
    "        for j in i.size():\n",
    "            l *= j\n",
    "        print(\"该层参数和：\" + str(l))\n",
    "        k = k + l\n",
    "    print(\"总参数数量和：\" + str(k))\n"
   ]
  },
  {
   "attachments": {
    "image.png": {
     "image/png": "[encoded data removed]"
    }
   },
   "cell_type": "markdown",
   "metadata": {},
   "source": [
    "![image.png](attachment:image.png)"
   ]
  },
  {
   "cell_type": "markdown",
   "metadata": {},
   "source": [
    "<span style=\"color:blue; font-size:16px; font-weight:bold;\">定义损失函数和优化器</span>"
   ]
  },
  {
   "cell_type": "code",
   "execution_count": 43,
   "metadata": {
    "ExecuteTime": {
     "end_time": "2019-01-05T06:49:24.302372Z",
     "start_time": "2019-01-05T06:49:24.296654Z"
    }
   },
   "outputs": [],
   "source": [
    "criterion = nn.CrossEntropyLoss()\n",
    "optimizer = torch.optim.Adam(model.parameters(), lr=learning_rate)"
   ]
  },
  {
   "cell_type": "markdown",
   "metadata": {},
   "source": [
    "<span style=\"color:blue; font-size:16px; font-weight:bold;\">开始训练</span>"
   ]
  },
  {
   "cell_type": "code",
   "execution_count": 44,
   "metadata": {
    "ExecuteTime": {
     "end_time": "2019-01-05T06:51:21.360579Z",
     "start_time": "2019-01-05T06:50:37.928329Z"
    },
    "scrolled": true
   },
   "outputs": [
    {
     "name": "stdout",
     "output_type": "stream",
     "text": [
      "Epoch [1/5], Step [100/600], Loss: 0.1609\n",
      "Epoch [1/5], Step [200/600], Loss: 0.0857\n",
      "Epoch [1/5], Step [300/600], Loss: 0.0430\n",
      "Epoch [1/5], Step [400/600], Loss: 0.0176\n",
      "Epoch [1/5], Step [500/600], Loss: 0.0430\n",
      "Epoch [1/5], Step [600/600], Loss: 0.0847\n",
      "Epoch [2/5], Step [100/600], Loss: 0.0116\n",
      "Epoch [2/5], Step [200/600], Loss: 0.1323\n",
      "Epoch [2/5], Step [300/600], Loss: 0.0138\n",
      "Epoch [2/5], Step [400/600], Loss: 0.0619\n",
      "Epoch [2/5], Step [500/600], Loss: 0.0623\n",
      "Epoch [2/5], Step [600/600], Loss: 0.0131\n",
      "Epoch [3/5], Step [100/600], Loss: 0.0604\n",
      "Epoch [3/5], Step [200/600], Loss: 0.1147\n",
      "Epoch [3/5], Step [300/600], Loss: 0.0332\n",
      "Epoch [3/5], Step [400/600], Loss: 0.0666\n",
      "Epoch [3/5], Step [500/600], Loss: 0.0079\n",
      "Epoch [3/5], Step [600/600], Loss: 0.0418\n",
      "Epoch [4/5], Step [100/600], Loss: 0.0728\n",
      "Epoch [4/5], Step [200/600], Loss: 0.0189\n",
      "Epoch [4/5], Step [300/600], Loss: 0.0130\n",
      "Epoch [4/5], Step [400/600], Loss: 0.0310\n",
      "Epoch [4/5], Step [500/600], Loss: 0.0576\n",
      "Epoch [4/5], Step [600/600], Loss: 0.0703\n",
      "Epoch [5/5], Step [100/600], Loss: 0.0492\n",
      "Epoch [5/5], Step [200/600], Loss: 0.0871\n",
      "Epoch [5/5], Step [300/600], Loss: 0.0077\n",
      "Epoch [5/5], Step [400/600], Loss: 0.0660\n",
      "Epoch [5/5], Step [500/600], Loss: 0.0166\n",
      "Epoch [5/5], Step [600/600], Loss: 0.0062\n"
     ]
    }
   ],
   "source": [
    "total_step = len(train_loader)\n",
    "for epoch in range(num_epochs):\n",
    "    for i, (images, labels) in enumerate(train_loader):\n",
    "        images = images.to(device)\n",
    "        labels = labels.to(device)\n",
    "        \n",
    "        # Forward pass\n",
    "        outputs = model(images)\n",
    "        loss = criterion(outputs, labels)\n",
    "        \n",
    "        # Backward and optimize\n",
    "        optimizer.zero_grad()\n",
    "        loss.backward()\n",
    "        optimizer.step()\n",
    "        \n",
    "        if (i+1) % 100 == 0:\n",
    "            print ('Epoch [{}/{}], Step [{}/{}], Loss: {:.4f}' \n",
    "                   .format(epoch+1, num_epochs, i+1, total_step, loss.item()))"
   ]
  },
  {
   "cell_type": "markdown",
   "metadata": {},
   "source": [
    "<span style=\"color:blue; font-size:16px; font-weight:bold;\">验证</span>"
   ]
  },
  {
   "cell_type": "code",
   "execution_count": 63,
   "metadata": {
    "ExecuteTime": {
     "end_time": "2019-01-05T08:50:40.325616Z",
     "start_time": "2019-01-05T08:50:38.974735Z"
    }
   },
   "outputs": [
    {
     "name": "stdout",
     "output_type": "stream",
     "text": [
      "Test Accuracy of the model on the 10000 test images: 98.9 %\n"
     ]
    }
   ],
   "source": [
    "model.eval()  # eval mode (batchnorm uses moving mean/variance instead of mini-batch mean/variance)\n",
    "with torch.no_grad():\n",
    "    correct = 0\n",
    "    total = 0\n",
    "    for images, labels in test_loader:\n",
    "        images = images.to(device)\n",
    "        labels = labels.to(device)\n",
    "        outputs = model(images)\n",
    "        _, predicted = torch.max(outputs.data, 1)\n",
    "        total += labels.size(0)\n",
    "        correct += (predicted == labels).sum().item()\n",
    "\n",
    "    print('Test Accuracy of the model on the 10000 test images: {} %'.format(100 * correct / total))"
   ]
  },
  {
   "cell_type": "code",
   "execution_count": null,
   "metadata": {},
   "outputs": [],
   "source": []
  }
 ],
 "metadata": {
  "kernelspec": {
   "display_name": "pytorch",
   "language": "python",
   "name": "pytorch"
  },
  "language_info": {
   "codemirror_mode": {
    "name": "ipython",
    "version": 3
   },
   "file_extension": ".py",
   "mimetype": "text/x-python",
   "name": "python",
   "nbconvert_exporter": "python",
   "pygments_lexer": "ipython3",
   "version": "3.6.2"
  },
  "toc": {
   "base_numbering": 1,
   "nav_menu": {},
   "number_sections": true,
   "sideBar": true,
   "skip_h1_title": false,
   "title_cell": "Table of Contents",
   "title_sidebar": "Contents",
   "toc_cell": false,
   "toc_position": {},
   "toc_section_display": true,
   "toc_window_display": false
  },
  "varInspector": {
   "cols": {
    "lenName": 16,
    "lenType": 16,
    "lenVar": 40
   },
   "kernels_config": {
    "python": {
     "delete_cmd_postfix": "",
     "delete_cmd_prefix": "del ",
     "library": "var_list.py",
     "varRefreshCmd": "print(var_dic_list())"
    },
    "r": {
     "delete_cmd_postfix": ") ",
     "delete_cmd_prefix": "rm(",
     "library": "var_list.r",
     "varRefreshCmd": "cat(var_dic_list()) "
    }
   },
   "types_to_exclude": [
    "module",
    "function",
    "builtin_function_or_method",
    "instance",
    "_Feature"
   ],
   "window_display": false
  }
 },
 "nbformat": 4,
 "nbformat_minor": 2
}
