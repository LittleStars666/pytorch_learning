{
 "cells": [
  {
   "cell_type": "code",
   "execution_count": 9,
   "metadata": {
    "ExecuteTime": {
     "end_time": "2019-01-04T05:40:30.905373Z",
     "start_time": "2019-01-04T05:40:30.898049Z"
    }
   },
   "outputs": [],
   "source": [
    "import torch\n",
    "import torchvision\n",
    "import torch.nn as nn\n",
    "import numpy as np\n",
    "import torchvision.transforms as transforms"
   ]
  },
  {
   "cell_type": "markdown",
   "metadata": {},
   "source": [
    "第一章 tensor张量\n",
    "===============\n",
    "  + 标量（Scalar）是只有大小，没有方向的量，如1，2，3等\n",
    "  + 向量（Vector）是有大小和方向的量，其实就是一串数字，如(1,2)\n",
    "  + 矩阵（Matrix）是好几个向量拍成一排合并而成的一堆数字，如[1,2;3,4]\n",
    "  <img src=\"https://upload-images.jianshu.io/upload_images/68960-86fe03c0bd55821f.png?imageMogr2/auto-orient/strip%7CimageView2/2/w/327/format/webp\">如图，我们可以看出，矩阵是二维的，向量是一维的，标量是零维的。<br>\n",
    "  <span style=\"font-size:18px;font-weight:bold;\">其实标量，向量，矩阵它们三个也是张量，标量是零维的张量，向量是一维的张量，矩阵是二维的张量。</span>\n",
    "  <img src=\"https://upload-images.jianshu.io/upload_images/68960-84adb05ed57ff266.png?imageMogr2/auto-orient/\">张量就是按照任意维排列的一堆数字的推广。如图所示，矩阵不过是三维张量下的一个二维切面。要找到三维张量下的一个标量，需要三个维度的坐标来定位。<br>\n",
    "  <a href=\"https://www.jianshu.com/p/5ae644748f21/\">参考链接献上</a>"
   ]
  },
  {
   "cell_type": "code",
   "execution_count": 4,
   "metadata": {
    "ExecuteTime": {
     "end_time": "2019-01-04T04:55:39.152375Z",
     "start_time": "2019-01-04T04:55:39.147147Z"
    }
   },
   "outputs": [
    {
     "name": "stdout",
     "output_type": "stream",
     "text": [
      "0.4.1\n"
     ]
    }
   ],
   "source": [
    "#打印torch版本\n",
    "print(torch.__version__)"
   ]
  },
  {
   "cell_type": "markdown",
   "metadata": {},
   "source": [
    "判断是否可以使用GPU，返回True代表可以"
   ]
  },
  {
   "cell_type": "code",
   "execution_count": 6,
   "metadata": {
    "ExecuteTime": {
     "end_time": "2019-01-04T04:55:49.246939Z",
     "start_time": "2019-01-04T04:55:44.165805Z"
    }
   },
   "outputs": [
    {
     "name": "stdout",
     "output_type": "stream",
     "text": [
      "True\n"
     ]
    }
   ],
   "source": [
    "print(torch.cuda.is_available())"
   ]
  },
  {
   "cell_type": "markdown",
   "metadata": {},
   "source": [
    "#### **torch.tensor**是一个包含多个同类数据类型数据的多维矩阵，默认是torch.FloatTensor。\n",
    "- **device:**这个参数表示了tensor将会在哪个设备上分配内存。它包含了设备的类型（cpu、cuda）和可选设备序号。如果这个值是缺省的，那么默认为当前的活动设备类型。\n",
    "- **require_grad:**这个标志表明这个tensor的操作是否会被pytorch的自动微分系统（Autograd）记录其操作过程，以便后续自动求导。\n",
    "- **layout：**表示了tensor的内存分布方式。目前，pytorch支持torch.strided方式以及实验性质地支持torch.sparse_coo。前者是目前普遍的使用方式。每一个strided tensor都关联一个torch.storage以保存其数据。"
   ]
  },
  {
   "cell_type": "code",
   "execution_count": 25,
   "metadata": {
    "ExecuteTime": {
     "end_time": "2019-01-04T06:13:39.700217Z",
     "start_time": "2019-01-04T06:13:39.693277Z"
    }
   },
   "outputs": [],
   "source": [
    "x = torch.tensor(1., requires_grad=True)\n",
    "w = torch.tensor(2., requires_grad=True)\n",
    "b = torch.tensor(3., requires_grad=True)"
   ]
  },
  {
   "cell_type": "code",
   "execution_count": 26,
   "metadata": {
    "ExecuteTime": {
     "end_time": "2019-01-04T06:13:40.868195Z",
     "start_time": "2019-01-04T06:13:40.861785Z"
    }
   },
   "outputs": [
    {
     "data": {
      "text/plain": [
       "torch.float32"
      ]
     },
     "execution_count": 26,
     "metadata": {},
     "output_type": "execute_result"
    }
   ],
   "source": [
    "x.dtype"
   ]
  },
  {
   "cell_type": "code",
   "execution_count": 27,
   "metadata": {
    "ExecuteTime": {
     "end_time": "2019-01-04T06:13:41.393556Z",
     "start_time": "2019-01-04T06:13:41.387636Z"
    }
   },
   "outputs": [
    {
     "data": {
      "text/plain": [
       "True"
      ]
     },
     "execution_count": 27,
     "metadata": {},
     "output_type": "execute_result"
    }
   ],
   "source": [
    "torch.is_tensor(x)"
   ]
  },
  {
   "cell_type": "markdown",
   "metadata": {},
   "source": [
    "Tensor跟tensor的区别是：Tensor定义后已经初始化了，而tensor则没有初始化"
   ]
  },
  {
   "cell_type": "code",
   "execution_count": 28,
   "metadata": {
    "ExecuteTime": {
     "end_time": "2019-01-04T06:13:41.956777Z",
     "start_time": "2019-01-04T06:13:41.952605Z"
    }
   },
   "outputs": [],
   "source": [
    "a1 = torch.Tensor(2,2)"
   ]
  },
  {
   "cell_type": "code",
   "execution_count": 29,
   "metadata": {
    "ExecuteTime": {
     "end_time": "2019-01-04T06:13:42.746308Z",
     "start_time": "2019-01-04T06:13:42.741887Z"
    }
   },
   "outputs": [],
   "source": [
    "a2 = torch.Tensor(4,2,3)"
   ]
  },
  {
   "cell_type": "code",
   "execution_count": 30,
   "metadata": {
    "ExecuteTime": {
     "end_time": "2019-01-04T06:14:11.612499Z",
     "start_time": "2019-01-04T06:14:11.607778Z"
    }
   },
   "outputs": [],
   "source": [
    "y = w * x + b"
   ]
  },
  {
   "cell_type": "code",
   "execution_count": 31,
   "metadata": {
    "ExecuteTime": {
     "end_time": "2019-01-04T06:14:18.405851Z",
     "start_time": "2019-01-04T06:14:18.398179Z"
    }
   },
   "outputs": [],
   "source": [
    "y.backward()"
   ]
  },
  {
   "cell_type": "code",
   "execution_count": 32,
   "metadata": {
    "ExecuteTime": {
     "end_time": "2019-01-04T06:14:30.205097Z",
     "start_time": "2019-01-04T06:14:30.198613Z"
    }
   },
   "outputs": [
    {
     "data": {
      "text/plain": [
       "tensor(2.)"
      ]
     },
     "execution_count": 32,
     "metadata": {},
     "output_type": "execute_result"
    }
   ],
   "source": [
    "x.grad"
   ]
  },
  {
   "cell_type": "code",
   "execution_count": 34,
   "metadata": {
    "ExecuteTime": {
     "end_time": "2019-01-04T06:46:07.721918Z",
     "start_time": "2019-01-04T06:46:07.710296Z"
    }
   },
   "outputs": [
    {
     "data": {
      "text/plain": [
       "torch.Size([5, 3])"
      ]
     },
     "execution_count": 34,
     "metadata": {},
     "output_type": "execute_result"
    }
   ],
   "source": [
    "h = torch.Tensor(5, 3)  # 构造一个未初始化的5*3的矩阵\n",
    "h = torch.rand(5, 3)  # 构造一个随机初始化的矩阵\n",
    "h # 此处在notebook中输出x的值来查看具体的x内容\n",
    "h.size()"
   ]
  },
  {
   "cell_type": "code",
   "execution_count": 35,
   "metadata": {
    "ExecuteTime": {
     "end_time": "2019-01-04T06:46:12.658584Z",
     "start_time": "2019-01-04T06:46:12.651017Z"
    }
   },
   "outputs": [
    {
     "data": {
      "text/plain": [
       "tensor([[0.4382, 0.9775, 0.4099],\n",
       "        [0.1197, 0.5300, 0.1714],\n",
       "        [0.7189, 0.2981, 0.9877],\n",
       "        [0.3738, 0.2048, 0.3262],\n",
       "        [0.4958, 0.6278, 0.5569]])"
      ]
     },
     "execution_count": 35,
     "metadata": {},
     "output_type": "execute_result"
    }
   ],
   "source": [
    "h"
   ]
  },
  {
   "cell_type": "code",
   "execution_count": 36,
   "metadata": {
    "ExecuteTime": {
     "end_time": "2019-01-04T07:31:06.540484Z",
     "start_time": "2019-01-04T07:31:06.534618Z"
    }
   },
   "outputs": [],
   "source": [
    "k = torch.rand(5,3)"
   ]
  },
  {
   "cell_type": "code",
   "execution_count": 39,
   "metadata": {
    "ExecuteTime": {
     "end_time": "2019-01-04T07:31:28.189957Z",
     "start_time": "2019-01-04T07:31:28.182912Z"
    }
   },
   "outputs": [
    {
     "data": {
      "text/plain": [
       "tensor([[0.4115, 0.6888, 0.6987],\n",
       "        [0.3963, 0.5501, 0.4177],\n",
       "        [0.3099, 0.8434, 0.1130],\n",
       "        [0.0279, 0.9514, 0.2996],\n",
       "        [0.9395, 0.4572, 0.2034]])"
      ]
     },
     "execution_count": 39,
     "metadata": {},
     "output_type": "execute_result"
    }
   ],
   "source": [
    "k"
   ]
  },
  {
   "cell_type": "code",
   "execution_count": 38,
   "metadata": {
    "ExecuteTime": {
     "end_time": "2019-01-04T07:31:19.786831Z",
     "start_time": "2019-01-04T07:31:19.780326Z"
    }
   },
   "outputs": [
    {
     "data": {
      "text/plain": [
       "tensor([[0.8497, 1.6664, 1.1086],\n",
       "        [0.5161, 1.0801, 0.5892],\n",
       "        [1.0288, 1.1416, 1.1007],\n",
       "        [0.4017, 1.1562, 0.6258],\n",
       "        [1.4353, 1.0850, 0.7603]])"
      ]
     },
     "execution_count": 38,
     "metadata": {},
     "output_type": "execute_result"
    }
   ],
   "source": [
    "h + k"
   ]
  },
  {
   "cell_type": "code",
   "execution_count": 40,
   "metadata": {
    "ExecuteTime": {
     "end_time": "2019-01-04T07:32:27.695013Z",
     "start_time": "2019-01-04T07:32:27.688009Z"
    }
   },
   "outputs": [
    {
     "data": {
      "text/plain": [
       "tensor([[0.8497, 1.6664, 1.1086],\n",
       "        [0.5161, 1.0801, 0.5892],\n",
       "        [1.0288, 1.1416, 1.1007],\n",
       "        [0.4017, 1.1562, 0.6258],\n",
       "        [1.4353, 1.0850, 0.7603]])"
      ]
     },
     "execution_count": 40,
     "metadata": {},
     "output_type": "execute_result"
    }
   ],
   "source": [
    "torch.add(h,k)"
   ]
  },
  {
   "cell_type": "code",
   "execution_count": 41,
   "metadata": {
    "ExecuteTime": {
     "end_time": "2019-01-04T07:33:35.126647Z",
     "start_time": "2019-01-04T07:33:35.117192Z"
    }
   },
   "outputs": [
    {
     "data": {
      "text/plain": [
       "tensor([[0.8497, 1.6664, 1.1086],\n",
       "        [0.5161, 1.0801, 0.5892],\n",
       "        [1.0288, 1.1416, 1.1007],\n",
       "        [0.4017, 1.1562, 0.6258],\n",
       "        [1.4353, 1.0850, 0.7603]])"
      ]
     },
     "execution_count": 41,
     "metadata": {},
     "output_type": "execute_result"
    }
   ],
   "source": [
    "# 另外输出tensor也有两种写法\n",
    "result = torch.Tensor(5, 3) # 语法一\n",
    "torch.add(h, k, out=result) # 语法二\n",
    "# y.add_(x) # 将y与x相加"
   ]
  },
  {
   "cell_type": "markdown",
   "metadata": {},
   "source": [
    " **特别注明：**任何可以改变tensor内容的操作都会在方法名后加一个下划线'_'<br>\n",
    " 例如：x.copy_(y), x.t_(), 这俩都会改变x的值。"
   ]
  },
  {
   "cell_type": "code",
   "execution_count": 42,
   "metadata": {
    "ExecuteTime": {
     "end_time": "2019-01-04T07:33:47.676197Z",
     "start_time": "2019-01-04T07:33:47.669283Z"
    }
   },
   "outputs": [
    {
     "data": {
      "text/plain": [
       "tensor([[0.8497, 1.6664, 1.1086],\n",
       "        [0.5161, 1.0801, 0.5892],\n",
       "        [1.0288, 1.1416, 1.1007],\n",
       "        [0.4017, 1.1562, 0.6258],\n",
       "        [1.4353, 1.0850, 0.7603]])"
      ]
     },
     "execution_count": 42,
     "metadata": {},
     "output_type": "execute_result"
    }
   ],
   "source": [
    "h.add_(k)"
   ]
  },
  {
   "cell_type": "markdown",
   "metadata": {},
   "source": [
    "Torch的Tensor和numpy的array可以相互转换。注意Torch的Tensor和numpy的array会共享他们的存储空间，修改一个会导致另外的一个也被修改。"
   ]
  },
  {
   "cell_type": "code",
   "execution_count": 62,
   "metadata": {
    "ExecuteTime": {
     "end_time": "2019-01-04T07:45:33.084976Z",
     "start_time": "2019-01-04T07:45:33.079618Z"
    }
   },
   "outputs": [],
   "source": [
    "#展示他们之间的相互转化\n",
    "t1 = torch.ones(10)\n",
    "t2 = t1.numpy()"
   ]
  },
  {
   "cell_type": "code",
   "execution_count": 63,
   "metadata": {
    "ExecuteTime": {
     "end_time": "2019-01-04T07:45:33.782524Z",
     "start_time": "2019-01-04T07:45:33.776715Z"
    }
   },
   "outputs": [
    {
     "data": {
      "text/plain": [
       "tensor([1., 1., 1., 1., 1., 1., 1., 1., 1., 1.])"
      ]
     },
     "execution_count": 63,
     "metadata": {},
     "output_type": "execute_result"
    }
   ],
   "source": [
    "t1"
   ]
  },
  {
   "cell_type": "code",
   "execution_count": 64,
   "metadata": {
    "ExecuteTime": {
     "end_time": "2019-01-04T07:45:34.500072Z",
     "start_time": "2019-01-04T07:45:34.493751Z"
    }
   },
   "outputs": [
    {
     "data": {
      "text/plain": [
       "array([1., 1., 1., 1., 1., 1., 1., 1., 1., 1.], dtype=float32)"
      ]
     },
     "execution_count": 64,
     "metadata": {},
     "output_type": "execute_result"
    }
   ],
   "source": [
    "t2"
   ]
  },
  {
   "cell_type": "code",
   "execution_count": 65,
   "metadata": {
    "ExecuteTime": {
     "end_time": "2019-01-04T07:45:35.453562Z",
     "start_time": "2019-01-04T07:45:35.446591Z"
    }
   },
   "outputs": [
    {
     "data": {
      "text/plain": [
       "tensor([2., 2., 2., 2., 2., 2., 2., 2., 2., 2.])"
      ]
     },
     "execution_count": 65,
     "metadata": {},
     "output_type": "execute_result"
    }
   ],
   "source": [
    "#更改一个后，另一个也随之更改\n",
    "t1.add_(1)"
   ]
  },
  {
   "cell_type": "code",
   "execution_count": 66,
   "metadata": {
    "ExecuteTime": {
     "end_time": "2019-01-04T07:45:36.567010Z",
     "start_time": "2019-01-04T07:45:36.560791Z"
    }
   },
   "outputs": [
    {
     "data": {
      "text/plain": [
       "array([2., 2., 2., 2., 2., 2., 2., 2., 2., 2.], dtype=float32)"
      ]
     },
     "execution_count": 66,
     "metadata": {},
     "output_type": "execute_result"
    }
   ],
   "source": [
    "t2"
   ]
  },
  {
   "cell_type": "code",
   "execution_count": 61,
   "metadata": {
    "ExecuteTime": {
     "end_time": "2019-01-04T07:45:15.690740Z",
     "start_time": "2019-01-04T07:45:15.679551Z"
    }
   },
   "outputs": [
    {
     "name": "stdout",
     "output_type": "stream",
     "text": [
      "[2. 2. 2. 2. 2. 2. 2. 2. 2. 2.]\n",
      "tensor([2., 2., 2., 2., 2., 2., 2., 2., 2., 2.], dtype=torch.float64)\n"
     ]
    }
   ],
   "source": [
    "#将numpy数组转化为tensor\n",
    "a = np.ones(10)\n",
    "b = torch.from_numpy(a)\n",
    "np.add(a, 1, out=a)\n",
    "print(a)\n",
    "print(b)"
   ]
  },
  {
   "cell_type": "code",
   "execution_count": 59,
   "metadata": {
    "ExecuteTime": {
     "end_time": "2019-01-04T07:44:06.939528Z",
     "start_time": "2019-01-04T07:44:06.923257Z"
    }
   },
   "outputs": [
    {
     "name": "stdout",
     "output_type": "stream",
     "text": [
      "tensor([[1.2612, 2.3552, 1.8072],\n",
      "        [0.9124, 1.6301, 1.0069],\n",
      "        [1.3387, 1.9850, 1.2137],\n",
      "        [0.4296, 2.1076, 0.9254],\n",
      "        [2.3748, 1.5421, 0.9638]], device='cuda:0')\n"
     ]
    }
   ],
   "source": [
    "# 另外除了CharTensor之外，所有的tensor都可以在CPU运算和GPU预算之间相互转换\n",
    "# 使用CUDA函数来将Tensor移动到GPU上\n",
    "# 当CUDA可用时会进行GPU的运算\n",
    "if torch.cuda.is_available():\n",
    "    h = h.cuda()\n",
    "    k = k.cuda()\n",
    "    print(h + k)"
   ]
  },
  {
   "cell_type": "code",
   "execution_count": null,
   "metadata": {},
   "outputs": [],
   "source": []
  }
 ],
 "metadata": {
  "kernelspec": {
   "display_name": "pytorch",
   "language": "python",
   "name": "pytorch"
  },
  "language_info": {
   "codemirror_mode": {
    "name": "ipython",
    "version": 3
   },
   "file_extension": ".py",
   "mimetype": "text/x-python",
   "name": "python",
   "nbconvert_exporter": "python",
   "pygments_lexer": "ipython3",
   "version": "3.6.2"
  },
  "toc": {
   "base_numbering": 1,
   "nav_menu": {},
   "number_sections": true,
   "sideBar": true,
   "skip_h1_title": false,
   "title_cell": "Table of Contents",
   "title_sidebar": "Contents",
   "toc_cell": false,
   "toc_position": {},
   "toc_section_display": true,
   "toc_window_display": false
  },
  "varInspector": {
   "cols": {
    "lenName": 16,
    "lenType": 16,
    "lenVar": 40
   },
   "kernels_config": {
    "python": {
     "delete_cmd_postfix": "",
     "delete_cmd_prefix": "del ",
     "library": "var_list.py",
     "varRefreshCmd": "print(var_dic_list())"
    },
    "r": {
     "delete_cmd_postfix": ") ",
     "delete_cmd_prefix": "rm(",
     "library": "var_list.r",
     "varRefreshCmd": "cat(var_dic_list()) "
    }
   },
   "position": {
    "height": "229px",
    "left": "469px",
    "right": "20px",
    "top": "126px",
    "width": "611px"
   },
   "types_to_exclude": [
    "module",
    "function",
    "builtin_function_or_method",
    "instance",
    "_Feature"
   ],
   "window_display": false
  }
 },
 "nbformat": 4,
 "nbformat_minor": 2
}
